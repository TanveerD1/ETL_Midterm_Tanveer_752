{
 "cells": [
  {
   "cell_type": "markdown",
   "id": "c8ec6edb",
   "metadata": {},
   "source": [
    "# ETL Extraction Notebook\n"
   ]
  },
  {
   "cell_type": "markdown",
   "id": "1faccdd4",
   "metadata": {},
   "source": [
    "## Libraries"
   ]
  },
  {
   "cell_type": "code",
   "execution_count": 2,
   "id": "e921e453",
   "metadata": {},
   "outputs": [],
   "source": [
    "import pandas as pd\n",
    "import numpy as np\n",
    "import os\n",
    "from datetime import datetime"
   ]
  },
  {
   "cell_type": "markdown",
   "id": "9e9aa520",
   "metadata": {},
   "source": [
    "## Loading Raw Data\n",
    "- using the head and shape we can see that the data has 100 rows and 7 columns"
   ]
  },
  {
   "cell_type": "code",
   "execution_count": 3,
   "id": "d3daf46b",
   "metadata": {},
   "outputs": [
    {
     "name": "stdout",
     "output_type": "stream",
     "text": [
      "   order_id customer_name product  quantity  unit_price  order_date region\n",
      "0         1         Diana  Tablet       NaN       500.0  2024-01-20  South\n",
      "1         2           Eve  Laptop       NaN         NaN  2024-04-29  North\n",
      "2         3       Charlie  Laptop       2.0       250.0  2024-01-08    NaN\n",
      "3         4           Eve  Laptop       2.0       750.0  2024-01-07   West\n",
      "4         5           Eve  Tablet       3.0         NaN  2024-03-07  South\n",
      "(100, 7)\n"
     ]
    }
   ],
   "source": [
    "rawData = pd.read_csv('data/raw_data.csv')\n",
    "print(rawData.head()) # checking the first few records \n",
    "print(rawData.shape) # checking the dimesnions"
   ]
  },
  {
   "cell_type": "code",
   "execution_count": 4,
   "id": "ab227c7a",
   "metadata": {},
   "outputs": [
    {
     "name": "stdout",
     "output_type": "stream",
     "text": [
      "<class 'pandas.core.frame.DataFrame'>\n",
      "RangeIndex: 100 entries, 0 to 99\n",
      "Data columns (total 7 columns):\n",
      " #   Column         Non-Null Count  Dtype  \n",
      "---  ------         --------------  -----  \n",
      " 0   order_id       100 non-null    int64  \n",
      " 1   customer_name  99 non-null     object \n",
      " 2   product        100 non-null    object \n",
      " 3   quantity       74 non-null     float64\n",
      " 4   unit_price     65 non-null     float64\n",
      " 5   order_date     99 non-null     object \n",
      " 6   region         75 non-null     object \n",
      "dtypes: float64(2), int64(1), object(4)\n",
      "memory usage: 5.6+ KB\n",
      "None\n"
     ]
    }
   ],
   "source": [
    "print(rawData.info()) # checking the data types and non-null counts"
   ]
  },
  {
   "cell_type": "markdown",
   "id": "9b2ba5c6",
   "metadata": {},
   "source": [
    "## Extraction Time"
   ]
  },
  {
   "cell_type": "code",
   "execution_count": null,
   "id": "5d2b28ad",
   "metadata": {},
   "outputs": [
    {
     "name": "stdout",
     "output_type": "stream",
     "text": [
      "Analysis performed on: 2025-06-24 19:58:07\n"
     ]
    }
   ],
   "source": [
    "# Changing to Datetime format\n",
    "print(f\"Analysis performed on: {datetime.now().strftime('%Y-%m-%d %H:%M:%S')}\")"
   ]
  },
  {
   "cell_type": "markdown",
   "id": "31ed1424",
   "metadata": {},
   "source": [
    "## Data Analysis\n",
    "- Using info, we can see there are a few null values in the data"
   ]
  },
  {
   "cell_type": "code",
   "execution_count": null,
   "id": "8a4119c1",
   "metadata": {},
   "outputs": [
    {
     "name": "stdout",
     "output_type": "stream",
     "text": [
      "<class 'pandas.core.frame.DataFrame'>\n",
      "RangeIndex: 100 entries, 0 to 99\n",
      "Data columns (total 7 columns):\n",
      " #   Column         Non-Null Count  Dtype  \n",
      "---  ------         --------------  -----  \n",
      " 0   order_id       100 non-null    int64  \n",
      " 1   customer_name  99 non-null     object \n",
      " 2   product        100 non-null    object \n",
      " 3   quantity       74 non-null     float64\n",
      " 4   unit_price     65 non-null     float64\n",
      " 5   order_date     99 non-null     object \n",
      " 6   region         75 non-null     object \n",
      "dtypes: float64(2), int64(1), object(4)\n",
      "memory usage: 5.6+ KB\n",
      "None\n",
      "order_id          0\n",
      "customer_name     1\n",
      "product           0\n",
      "quantity         26\n",
      "unit_price       35\n",
      "order_date        1\n",
      "region           25\n",
      "dtype: int64\n",
      "duplicates:\n",
      "1\n"
     ]
    }
   ],
   "source": [
    "print(rawData.info())\n",
    "print(rawData.isnull().sum()) # checking for missing values\n",
    "print(\"duplicates:\")\n",
    "print(rawData.duplicated().sum()) # checking for duplicates"
   ]
  },
  {
   "cell_type": "markdown",
   "id": "cf98aad4",
   "metadata": {},
   "source": [
    "## Loading Incremental Data\n",
    "- we can see that the incremental data has 10 rows and 7 columns"
   ]
  },
  {
   "cell_type": "code",
   "execution_count": 7,
   "id": "81179e4e",
   "metadata": {},
   "outputs": [
    {
     "name": "stdout",
     "output_type": "stream",
     "text": [
      "   order_id customer_name product  quantity  unit_price  order_date   region\n",
      "0       101         Alice  Laptop       NaN       900.0  2024-05-09  Central\n",
      "1       102           NaN  Laptop       1.0       300.0  2024-05-07  Central\n",
      "2       103           NaN  Laptop       1.0       600.0  2024-05-04  Central\n",
      "3       104           NaN  Tablet       NaN       300.0  2024-05-26  Central\n",
      "4       105         Heidi  Tablet       2.0       600.0  2024-05-21    North\n",
      "(10, 7)\n"
     ]
    }
   ],
   "source": [
    "incrementalData = pd.read_csv('data/incremental_data.csv')\n",
    "print(incrementalData.head()) # checking the first few records of incremental data\n",
    "print(incrementalData.shape) # checking the dimensions of incremental data"
   ]
  },
  {
   "cell_type": "markdown",
   "id": "f8f03b7d",
   "metadata": {},
   "source": [
    "## Incremental Data Analysis\n",
    "- we can see that the incremental data still has some null values"
   ]
  },
  {
   "cell_type": "code",
   "execution_count": 8,
   "id": "53d04072",
   "metadata": {},
   "outputs": [
    {
     "name": "stdout",
     "output_type": "stream",
     "text": [
      "<class 'pandas.core.frame.DataFrame'>\n",
      "RangeIndex: 10 entries, 0 to 9\n",
      "Data columns (total 7 columns):\n",
      " #   Column         Non-Null Count  Dtype  \n",
      "---  ------         --------------  -----  \n",
      " 0   order_id       10 non-null     int64  \n",
      " 1   customer_name  4 non-null      object \n",
      " 2   product        10 non-null     object \n",
      " 3   quantity       6 non-null      float64\n",
      " 4   unit_price     10 non-null     float64\n",
      " 5   order_date     10 non-null     object \n",
      " 6   region         8 non-null      object \n",
      "dtypes: float64(2), int64(1), object(4)\n",
      "memory usage: 692.0+ bytes\n",
      "None\n",
      "order_id         0\n",
      "customer_name    6\n",
      "product          0\n",
      "quantity         4\n",
      "unit_price       0\n",
      "order_date       0\n",
      "region           2\n",
      "dtype: int64\n",
      "duplicates in incremental data:\n",
      "0\n"
     ]
    }
   ],
   "source": [
    "print(incrementalData.info())\n",
    "print(incrementalData.isnull().sum()) # checking for missing values in incremental data\n",
    "print(\"duplicates in incremental data:\")\n",
    "print(incrementalData.duplicated().sum()) # checking for duplicates in incremental data"
   ]
  },
  {
   "cell_type": "markdown",
   "id": "ab220f33",
   "metadata": {},
   "source": [
    "## Key Observations\n",
    "  - `quantity`: 26% missing  \n",
    "  - `unit_price`: 35% missing  \n",
    "  - `region`: 25% missing  \n",
    "  - `customer_name`: 1 missing  \n",
    "  - `order_date`: 1 missing  \n",
    "- Incremental Data (10 rows):  \n",
    "  - `customer_name`: 60% missing  \n",
    "  - `quantity`: 40% missing  \n",
    "  - `region`: 20% missing  \n",
    "- Numeric: `order_id`, `quantity`, `unit_price`  \n",
    "- Text/Date: `customer_name`, `product`, `region`, `order_date` (needs conversion to `datetime`)  "
   ]
  },
  {
   "cell_type": "markdown",
   "id": "39d922da",
   "metadata": {},
   "source": [
    "#### SAving a copy of the data"
   ]
  },
  {
   "cell_type": "code",
   "execution_count": 9,
   "id": "2b3a1b44",
   "metadata": {},
   "outputs": [],
   "source": [
    "# Saving processed raw data\n",
    "processed_raw_path = 'data/copy_raw_data.csv'\n",
    "rawData.to_csv(processed_raw_path, index=False)\n",
    "\n",
    "# Save processed incremental data\n",
    "processed_incremental_path = 'data/copy_incremental_data.csv'\n",
    "incrementalData.to_csv(processed_incremental_path, index=False)\n"
   ]
  }
 ],
 "metadata": {
  "kernelspec": {
   "display_name": "base",
   "language": "python",
   "name": "python3"
  },
  "language_info": {
   "codemirror_mode": {
    "name": "ipython",
    "version": 3
   },
   "file_extension": ".py",
   "mimetype": "text/x-python",
   "name": "python",
   "nbconvert_exporter": "python",
   "pygments_lexer": "ipython3",
   "version": "3.11.5"
  }
 },
 "nbformat": 4,
 "nbformat_minor": 5
}
