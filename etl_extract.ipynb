{
 "cells": [
  {
   "cell_type": "markdown",
   "id": "c8ec6edb",
   "metadata": {},
   "source": [
    "# ETL Extraction Notebook\n"
   ]
  },
  {
   "cell_type": "markdown",
   "id": "1faccdd4",
   "metadata": {},
   "source": [
    "## Libraries"
   ]
  },
  {
   "cell_type": "code",
   "execution_count": 1,
   "id": "e921e453",
   "metadata": {},
   "outputs": [],
   "source": [
    "import pandas as pd\n",
    "import numpy as np\n",
    "import os\n",
    "from datetime import datetime"
   ]
  },
  {
   "cell_type": "markdown",
   "id": "9e9aa520",
   "metadata": {},
   "source": [
    "## Loading Raw Data\n",
    "- using the head and shape we can see that the data has 100 rows and 7 columns"
   ]
  },
  {
   "cell_type": "code",
   "execution_count": 5,
   "id": "d3daf46b",
   "metadata": {},
   "outputs": [
    {
     "name": "stdout",
     "output_type": "stream",
     "text": [
      "   order_id customer_name product  quantity  unit_price  order_date region\n",
      "0         1         Diana  Tablet       NaN       500.0  2024-01-20  South\n",
      "1         2           Eve  Laptop       NaN         NaN  2024-04-29  North\n",
      "2         3       Charlie  Laptop       2.0       250.0  2024-01-08    NaN\n",
      "3         4           Eve  Laptop       2.0       750.0  2024-01-07   West\n",
      "4         5           Eve  Tablet       3.0         NaN  2024-03-07  South\n",
      "(100, 7)\n"
     ]
    }
   ],
   "source": [
    "rawData = pd.read_csv('data/raw_data.csv')\n",
    "print(rawData.head()) # checking the first few records \n",
    "print(rawData.shape) # checking the dimesnions"
   ]
  },
  {
   "cell_type": "markdown",
   "id": "31ed1424",
   "metadata": {},
   "source": [
    "## Data Analysis\n",
    "-"
   ]
  }
 ],
 "metadata": {
  "kernelspec": {
   "display_name": "base",
   "language": "python",
   "name": "python3"
  },
  "language_info": {
   "codemirror_mode": {
    "name": "ipython",
    "version": 3
   },
   "file_extension": ".py",
   "mimetype": "text/x-python",
   "name": "python",
   "nbconvert_exporter": "python",
   "pygments_lexer": "ipython3",
   "version": "3.11.5"
  }
 },
 "nbformat": 4,
 "nbformat_minor": 5
}
