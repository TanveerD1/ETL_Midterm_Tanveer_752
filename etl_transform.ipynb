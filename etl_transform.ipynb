{
 "cells": [
  {
   "cell_type": "markdown",
   "id": "6a67a9e4",
   "metadata": {},
   "source": [
    "# ETL Transformation Notebook"
   ]
  },
  {
   "cell_type": "markdown",
   "id": "146bc4dd",
   "metadata": {},
   "source": []
  }
 ],
 "metadata": {
  "kernelspec": {
   "display_name": "base",
   "language": "python",
   "name": "python3"
  },
  "language_info": {
   "name": "python",
   "version": "3.11.5"
  }
 },
 "nbformat": 4,
 "nbformat_minor": 5
}
