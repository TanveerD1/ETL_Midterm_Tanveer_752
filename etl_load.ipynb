{
 "cells": [
  {
   "cell_type": "markdown",
   "id": "2a04fef0",
   "metadata": {},
   "source": [
    "# ETL Load Notebook"
   ]
  },
  {
   "cell_type": "markdown",
   "id": "9c398ee0",
   "metadata": {},
   "source": []
  }
 ],
 "metadata": {
  "kernelspec": {
   "display_name": "base",
   "language": "python",
   "name": "python3"
  },
  "language_info": {
   "name": "python",
   "version": "3.11.5"
  }
 },
 "nbformat": 4,
 "nbformat_minor": 5
}
